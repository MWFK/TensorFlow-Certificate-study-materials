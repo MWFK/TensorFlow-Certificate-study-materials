{
  "nbformat": 4,
  "nbformat_minor": 0,
  "metadata": {
    "colab": {
      "name": "TF Dimensions.ipynb",
      "provenance": [],
      "authorship_tag": "ABX9TyNSg/E1AJZXItgQh9uX7U5k",
      "include_colab_link": true
    },
    "kernelspec": {
      "name": "python3",
      "display_name": "Python 3"
    },
    "language_info": {
      "name": "python"
    }
  },
  "cells": [
    {
      "cell_type": "markdown",
      "metadata": {
        "id": "view-in-github",
        "colab_type": "text"
      },
      "source": [
        "<a href=\"https://colab.research.google.com/github/MWFK/TensorFlow-Certificate-study-materials/blob/main/TF_Dimensions.ipynb\" target=\"_parent\"><img src=\"https://colab.research.google.com/assets/colab-badge.svg\" alt=\"Open In Colab\"/></a>"
      ]
    },
    {
      "cell_type": "markdown",
      "source": [
        "### Libs"
      ],
      "metadata": {
        "id": "tnsGdrBMLpr8"
      }
    },
    {
      "cell_type": "code",
      "execution_count": 1,
      "metadata": {
        "id": "Wb66wdIzEmgr"
      },
      "outputs": [],
      "source": [
        "import tensorflow as tf"
      ]
    },
    {
      "cell_type": "markdown",
      "source": [
        "### Tensors"
      ],
      "metadata": {
        "id": "UyMYK5vfLssj"
      }
    },
    {
      "cell_type": "code",
      "source": [
        "image2 = tf.zeros([2,2,2]) # 2 tables of 2 rows and 2 columns => 2*2 Cube \n",
        "image2"
      ],
      "metadata": {
        "colab": {
          "base_uri": "https://localhost:8080/"
        },
        "id": "Mi-lOgw5E-Ey",
        "outputId": "de8c01ae-b98b-4d8e-e782-24d600af6b14"
      },
      "execution_count": 38,
      "outputs": [
        {
          "output_type": "execute_result",
          "data": {
            "text/plain": [
              "<tf.Tensor: shape=(2, 2, 2), dtype=float32, numpy=\n",
              "array([[[0., 0.],\n",
              "        [0., 0.]],\n",
              "\n",
              "       [[0., 0.],\n",
              "        [0., 0.]]], dtype=float32)>"
            ]
          },
          "metadata": {},
          "execution_count": 38
        }
      ]
    },
    {
      "cell_type": "code",
      "source": [
        "image3 = tf.zeros([3,3,3]) # 2 tables of 3 rows and 3 columns => 3*3 Cube \n",
        "image3"
      ],
      "metadata": {
        "colab": {
          "base_uri": "https://localhost:8080/"
        },
        "id": "ujgmK3tBFAhR",
        "outputId": "050d6fc0-258d-42ab-99a0-d5eca60be803"
      },
      "execution_count": 18,
      "outputs": [
        {
          "output_type": "execute_result",
          "data": {
            "text/plain": [
              "<tf.Tensor: shape=(3, 3, 3), dtype=float32, numpy=\n",
              "array([[[0., 0., 0.],\n",
              "        [0., 0., 0.],\n",
              "        [0., 0., 0.]],\n",
              "\n",
              "       [[0., 0., 0.],\n",
              "        [0., 0., 0.],\n",
              "        [0., 0., 0.]],\n",
              "\n",
              "       [[0., 0., 0.],\n",
              "        [0., 0., 0.],\n",
              "        [0., 0., 0.]]], dtype=float32)>"
            ]
          },
          "metadata": {},
          "execution_count": 18
        }
      ]
    },
    {
      "cell_type": "markdown",
      "source": [
        "# expand_dims"
      ],
      "metadata": {
        "id": "NWGsHhjtLwLB"
      }
    },
    {
      "cell_type": "code",
      "source": [
        "# add an outer batch axis by passing axis=0\n",
        "image1_2 = tf.expand_dims(image2, axis=0) # Table of Table that have 2 rows and 2 columns => 1 batch 2*2 Cube\n",
        "image1_2\n",
        "#image1_2.shape.as_list()"
      ],
      "metadata": {
        "colab": {
          "base_uri": "https://localhost:8080/"
        },
        "id": "6HFdPXqzGXLy",
        "outputId": "07c2ced7-ed64-4b2d-dc2e-38aa76f4e893"
      },
      "execution_count": 21,
      "outputs": [
        {
          "output_type": "execute_result",
          "data": {
            "text/plain": [
              "<tf.Tensor: shape=(1, 2, 2, 2), dtype=float32, numpy=\n",
              "array([[[[0., 0.],\n",
              "         [0., 0.]],\n",
              "\n",
              "        [[0., 0.],\n",
              "         [0., 0.]]]], dtype=float32)>"
            ]
          },
          "metadata": {},
          "execution_count": 21
        }
      ]
    },
    {
      "cell_type": "code",
      "source": [
        "# add an outer batch axis by passing axis=0\n",
        "image1_3 = tf.expand_dims(image3, axis=0) #  Table of 3*3 cubes => 1 batch 3*3 Cube \n",
        "image1_3"
      ],
      "metadata": {
        "colab": {
          "base_uri": "https://localhost:8080/"
        },
        "id": "NpcmBQhDGwqL",
        "outputId": "d7318e0b-65d3-449b-e7a2-211034c614a0"
      },
      "execution_count": 22,
      "outputs": [
        {
          "output_type": "execute_result",
          "data": {
            "text/plain": [
              "<tf.Tensor: shape=(1, 3, 3, 3), dtype=float32, numpy=\n",
              "array([[[[0., 0., 0.],\n",
              "         [0., 0., 0.],\n",
              "         [0., 0., 0.]],\n",
              "\n",
              "        [[0., 0., 0.],\n",
              "         [0., 0., 0.],\n",
              "         [0., 0., 0.]],\n",
              "\n",
              "        [[0., 0., 0.],\n",
              "         [0., 0., 0.],\n",
              "         [0., 0., 0.]]]], dtype=float32)>"
            ]
          },
          "metadata": {},
          "execution_count": 22
        }
      ]
    },
    {
      "cell_type": "markdown",
      "source": [
        "# squeeze"
      ],
      "metadata": {
        "id": "uGHRu_riL4eS"
      }
    },
    {
      "cell_type": "code",
      "source": [
        "# Following standard Python indexing rules, a negative axis counts from the end so axis=-1 adds an inner most dimension\n",
        "image4 = tf.zeros([10,10,3])\n",
        "image4 = tf.expand_dims(image, -1)\n",
        "print(image4.shape.as_list())\n",
        "'''\n",
        "Given a tensor input, this operation returns a tensor of the same type with all dimensions of size 1 removed. \n",
        "If you don't want to remove all size 1 dimensions, you can remove specific size 1 dimensions by specifying axis.\n",
        "'''\n",
        "image4 = tf.squeeze(image4)\n",
        "image4.shape.as_list()"
      ],
      "metadata": {
        "colab": {
          "base_uri": "https://localhost:8080/"
        },
        "id": "Q8-FvJ6dJy4J",
        "outputId": "8b6fcdad-7cb8-4990-fac2-c64b9c57d4c9"
      },
      "execution_count": 32,
      "outputs": [
        {
          "output_type": "stream",
          "name": "stdout",
          "text": [
            "[10, 10, 3, 1, 1]\n"
          ]
        },
        {
          "output_type": "execute_result",
          "data": {
            "text/plain": [
              "[10, 10, 3]"
            ]
          },
          "metadata": {},
          "execution_count": 32
        }
      ]
    },
    {
      "cell_type": "code",
      "source": [
        "# The new axis location matches Python list.insert(axis, 1)\n",
        "image5 = tf.zeros([10,10,3])\n",
        "image5 = tf.expand_dims(image5, axis=1)\n",
        "print(image5.shape.as_list())\n",
        "'''\n",
        "Given a tensor input, this operation returns a tensor of the same type with all dimensions of size 1 removed. \n",
        "If you don't want to remove all size 1 dimensions, you can remove specific size 1 dimensions by specifying axis.\n",
        "'''\n",
        "image5 = tf.squeeze(image5)\n",
        "image5.shape.as_list()"
      ],
      "metadata": {
        "colab": {
          "base_uri": "https://localhost:8080/"
        },
        "id": "u92bgy-PI0ly",
        "outputId": "8000e3b9-1531-4409-9c65-72c1ef09dd5d"
      },
      "execution_count": 33,
      "outputs": [
        {
          "output_type": "stream",
          "name": "stdout",
          "text": [
            "[10, 1, 10, 3]\n"
          ]
        },
        {
          "output_type": "execute_result",
          "data": {
            "text/plain": [
              "[10, 10, 3]"
            ]
          },
          "metadata": {},
          "execution_count": 33
        }
      ]
    },
    {
      "cell_type": "markdown",
      "source": [
        "# Dataset.from_tensor_slices"
      ],
      "metadata": {
        "id": "yJrjyXcDL_DA"
      }
    },
    {
      "cell_type": "code",
      "source": [
        "image2 = tf.zeros([2,2,2])\n",
        "print(image2)\n",
        "image2 = tf.data.Dataset.from_tensor_slices(image2)\n",
        "image2"
      ],
      "metadata": {
        "colab": {
          "base_uri": "https://localhost:8080/"
        },
        "id": "UAdiXDFkLSTG",
        "outputId": "d804896a-ff18-4b05-ed83-1bd85f43490e"
      },
      "execution_count": 40,
      "outputs": [
        {
          "output_type": "stream",
          "name": "stdout",
          "text": [
            "tf.Tensor(\n",
            "[[[0. 0.]\n",
            "  [0. 0.]]\n",
            "\n",
            " [[0. 0.]\n",
            "  [0. 0.]]], shape=(2, 2, 2), dtype=float32)\n"
          ]
        },
        {
          "output_type": "execute_result",
          "data": {
            "text/plain": [
              "<TensorSliceDataset shapes: (2, 2), types: tf.float32>"
            ]
          },
          "metadata": {},
          "execution_count": 40
        }
      ]
    },
    {
      "cell_type": "code",
      "source": [
        "image2 = tf.zeros([2,2,2])\n",
        "image2 = tf.expand_dims(image2, axis=-1)\n",
        "image2 = tf.data.Dataset.from_tensor_slices(image2)\n",
        "image2"
      ],
      "metadata": {
        "colab": {
          "base_uri": "https://localhost:8080/"
        },
        "id": "yLjWzvPTMBri",
        "outputId": "bc765c2d-b498-473f-be06-9d401ffa54bb"
      },
      "execution_count": 41,
      "outputs": [
        {
          "output_type": "execute_result",
          "data": {
            "text/plain": [
              "<TensorSliceDataset shapes: (2, 2, 1), types: tf.float32>"
            ]
          },
          "metadata": {},
          "execution_count": 41
        }
      ]
    },
    {
      "cell_type": "code",
      "source": [
        ""
      ],
      "metadata": {
        "id": "FN8eJJEtMJwu"
      },
      "execution_count": null,
      "outputs": []
    }
  ]
}