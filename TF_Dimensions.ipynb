{
  "nbformat": 4,
  "nbformat_minor": 0,
  "metadata": {
    "colab": {
      "name": "TF Dimensions.ipynb",
      "provenance": [],
      "authorship_tag": "ABX9TyNckMQ2KEh7CaQ8H61jhgUJ",
      "include_colab_link": true
    },
    "kernelspec": {
      "name": "python3",
      "display_name": "Python 3"
    },
    "language_info": {
      "name": "python"
    }
  },
  "cells": [
    {
      "cell_type": "markdown",
      "metadata": {
        "id": "view-in-github",
        "colab_type": "text"
      },
      "source": [
        "<a href=\"https://colab.research.google.com/github/MWFK/TensorFlow-Certificate-study-materials/blob/main/TF_Dimensions.ipynb\" target=\"_parent\"><img src=\"https://colab.research.google.com/assets/colab-badge.svg\" alt=\"Open In Colab\"/></a>"
      ]
    },
    {
      "cell_type": "markdown",
      "source": [
        "### Libs"
      ],
      "metadata": {
        "id": "tnsGdrBMLpr8"
      }
    },
    {
      "cell_type": "code",
      "execution_count": 27,
      "metadata": {
        "id": "Wb66wdIzEmgr"
      },
      "outputs": [],
      "source": [
        "import tensorflow as tf"
      ]
    },
    {
      "cell_type": "markdown",
      "source": [
        "### Tensors"
      ],
      "metadata": {
        "id": "UyMYK5vfLssj"
      }
    },
    {
      "cell_type": "code",
      "source": [
        "image1 = tf.zeros([2,2,2]) # 2 tables of 2 rows and 2 columns => 2*2 Cube \n",
        "image1"
      ],
      "metadata": {
        "colab": {
          "base_uri": "https://localhost:8080/"
        },
        "id": "Mi-lOgw5E-Ey",
        "outputId": "56235881-6c20-45c4-b365-a757a6d81a02"
      },
      "execution_count": null,
      "outputs": [
        {
          "output_type": "execute_result",
          "data": {
            "text/plain": [
              "<tf.Tensor: shape=(2, 2, 2), dtype=float32, numpy=\n",
              "array([[[0., 0.],\n",
              "        [0., 0.]],\n",
              "\n",
              "       [[0., 0.],\n",
              "        [0., 0.]]], dtype=float32)>"
            ]
          },
          "metadata": {},
          "execution_count": 11
        }
      ]
    },
    {
      "cell_type": "code",
      "source": [
        "image2 = tf.zeros([3,3,3]) # 3 tables of 3 rows and 3 columns => 3*3 Cube \n",
        "image2"
      ],
      "metadata": {
        "colab": {
          "base_uri": "https://localhost:8080/"
        },
        "id": "ujgmK3tBFAhR",
        "outputId": "131118b4-9246-4837-f7a8-d17d467047ad"
      },
      "execution_count": null,
      "outputs": [
        {
          "output_type": "execute_result",
          "data": {
            "text/plain": [
              "<tf.Tensor: shape=(3, 3, 3), dtype=float32, numpy=\n",
              "array([[[0., 0., 0.],\n",
              "        [0., 0., 0.],\n",
              "        [0., 0., 0.]],\n",
              "\n",
              "       [[0., 0., 0.],\n",
              "        [0., 0., 0.],\n",
              "        [0., 0., 0.]],\n",
              "\n",
              "       [[0., 0., 0.],\n",
              "        [0., 0., 0.],\n",
              "        [0., 0., 0.]]], dtype=float32)>"
            ]
          },
          "metadata": {},
          "execution_count": 14
        }
      ]
    },
    {
      "cell_type": "markdown",
      "source": [
        "# expand_dims"
      ],
      "metadata": {
        "id": "NWGsHhjtLwLB"
      }
    },
    {
      "cell_type": "code",
      "source": [
        "# add an outer batch axis by passing axis=0\n",
        "image1_1 = tf.expand_dims(image1, axis=0) # Table of Table that have 2 rows and 2 columns => 1 batch 2*2 Cube\n",
        "image1_1\n",
        "#image1_2.shape.as_list()"
      ],
      "metadata": {
        "colab": {
          "base_uri": "https://localhost:8080/"
        },
        "id": "6HFdPXqzGXLy",
        "outputId": "11cc247b-c8fa-4b10-dba0-18cefd0a9e7a"
      },
      "execution_count": 28,
      "outputs": [
        {
          "output_type": "execute_result",
          "data": {
            "text/plain": [
              "<tf.Tensor: shape=(1, 2, 2, 2), dtype=float32, numpy=\n",
              "array([[[[0., 0.],\n",
              "         [0., 0.]],\n",
              "\n",
              "        [[0., 0.],\n",
              "         [0., 0.]]]], dtype=float32)>"
            ]
          },
          "metadata": {},
          "execution_count": 28
        }
      ]
    },
    {
      "cell_type": "code",
      "source": [
        "# add an outer batch axis by passing axis=-1\n",
        "image1_2 = tf.expand_dims(image1, axis=-1) \n",
        "image1_2\n",
        "#image1_2.shape.as_list()"
      ],
      "metadata": {
        "id": "XPQQNzd-ATyw",
        "outputId": "a5909143-cb8c-4e8f-ac6a-c7db2abfd43c",
        "colab": {
          "base_uri": "https://localhost:8080/"
        }
      },
      "execution_count": 29,
      "outputs": [
        {
          "output_type": "execute_result",
          "data": {
            "text/plain": [
              "<tf.Tensor: shape=(2, 2, 2, 1), dtype=float32, numpy=\n",
              "array([[[[0.],\n",
              "         [0.]],\n",
              "\n",
              "        [[0.],\n",
              "         [0.]]],\n",
              "\n",
              "\n",
              "       [[[0.],\n",
              "         [0.]],\n",
              "\n",
              "        [[0.],\n",
              "         [0.]]]], dtype=float32)>"
            ]
          },
          "metadata": {},
          "execution_count": 29
        }
      ]
    },
    {
      "cell_type": "code",
      "source": [
        "# add an outer batch axis by passing axis=0\n",
        "image1_3 = tf.expand_dims(image2, axis=0) #  Table of 3*3 cubes => 1 batch 3*3 Cube \n",
        "image1_3"
      ],
      "metadata": {
        "colab": {
          "base_uri": "https://localhost:8080/"
        },
        "id": "NpcmBQhDGwqL",
        "outputId": "060e41b6-1ed2-4a75-8b40-f7008b1013e5"
      },
      "execution_count": null,
      "outputs": [
        {
          "output_type": "execute_result",
          "data": {
            "text/plain": [
              "<tf.Tensor: shape=(1, 3, 3, 3), dtype=float32, numpy=\n",
              "array([[[[0., 0., 0.],\n",
              "         [0., 0., 0.],\n",
              "         [0., 0., 0.]],\n",
              "\n",
              "        [[0., 0., 0.],\n",
              "         [0., 0., 0.],\n",
              "         [0., 0., 0.]],\n",
              "\n",
              "        [[0., 0., 0.],\n",
              "         [0., 0., 0.],\n",
              "         [0., 0., 0.]]]], dtype=float32)>"
            ]
          },
          "metadata": {},
          "execution_count": 15
        }
      ]
    },
    {
      "cell_type": "markdown",
      "source": [
        "# squeeze"
      ],
      "metadata": {
        "id": "uGHRu_riL4eS"
      }
    },
    {
      "cell_type": "code",
      "source": [
        "# Following standard Python indexing rules, a negative axis counts from the end so axis=-1 adds an inner most dimension\n",
        "image4 = tf.zeros([10,10,3])\n",
        "image4 = tf.expand_dims(image4, -1)\n",
        "print(image4.shape.as_list())\n",
        "'''\n",
        "Given a tensor input, this operation returns a tensor of the same type with all dimensions of size 1 removed. \n",
        "If you don't want to remove all size 1 dimensions, you can remove specific size 1 dimensions by specifying axis.\n",
        "'''\n",
        "image4 = tf.squeeze(image4)\n",
        "image4.shape.as_list()"
      ],
      "metadata": {
        "colab": {
          "base_uri": "https://localhost:8080/"
        },
        "id": "Q8-FvJ6dJy4J",
        "outputId": "8c60cfd1-f3de-4940-c7ff-e72536c65854"
      },
      "execution_count": null,
      "outputs": [
        {
          "output_type": "stream",
          "name": "stdout",
          "text": [
            "[10, 10, 3, 1]\n"
          ]
        },
        {
          "output_type": "execute_result",
          "data": {
            "text/plain": [
              "[10, 10, 3]"
            ]
          },
          "metadata": {},
          "execution_count": 16
        }
      ]
    },
    {
      "cell_type": "code",
      "source": [
        "# The new axis location matches Python list.insert(axis, 1)\n",
        "image5 = tf.zeros([10,10,3])\n",
        "image5 = tf.expand_dims(image5, axis=1)\n",
        "print(image5.shape.as_list())\n",
        "'''\n",
        "Given a tensor input, this operation returns a tensor of the same type with all dimensions of size 1 removed. \n",
        "If you don't want to remove all size 1 dimensions, you can remove specific size 1 dimensions by specifying axis.\n",
        "'''\n",
        "image5 = tf.squeeze(image5)\n",
        "image5.shape.as_list()"
      ],
      "metadata": {
        "colab": {
          "base_uri": "https://localhost:8080/"
        },
        "id": "u92bgy-PI0ly",
        "outputId": "578652bd-4487-42b8-f5b9-0bfdf1e49bf3"
      },
      "execution_count": null,
      "outputs": [
        {
          "output_type": "stream",
          "name": "stdout",
          "text": [
            "[10, 1, 10, 3]\n"
          ]
        },
        {
          "output_type": "execute_result",
          "data": {
            "text/plain": [
              "[10, 10, 3]"
            ]
          },
          "metadata": {},
          "execution_count": 17
        }
      ]
    },
    {
      "cell_type": "markdown",
      "source": [
        "# Dataset.from_tensor_slices"
      ],
      "metadata": {
        "id": "yJrjyXcDL_DA"
      }
    },
    {
      "cell_type": "code",
      "source": [
        "image6 = tf.zeros([2,2,2]) # 2 tables of 2 rows and 2 columns => 2*2 Cube \n",
        "print(image6,'\\n\\n')\n",
        "\n",
        "image6 = tf.data.Dataset.from_tensor_slices(image6) # Seperate the 2*2cube into 2 different tables of of 2 rows and 2 columns\n",
        "print(*image6)"
      ],
      "metadata": {
        "colab": {
          "base_uri": "https://localhost:8080/"
        },
        "id": "UAdiXDFkLSTG",
        "outputId": "38f16e02-e5f4-4295-a0d2-1655d02a8ab2"
      },
      "execution_count": null,
      "outputs": [
        {
          "output_type": "stream",
          "name": "stdout",
          "text": [
            "tf.Tensor(\n",
            "[[[0. 0.]\n",
            "  [0. 0.]]\n",
            "\n",
            " [[0. 0.]\n",
            "  [0. 0.]]], shape=(2, 2, 2), dtype=float32) \n",
            "\n",
            "\n",
            "tf.Tensor(\n",
            "[[0. 0.]\n",
            " [0. 0.]], shape=(2, 2), dtype=float32) tf.Tensor(\n",
            "[[0. 0.]\n",
            " [0. 0.]], shape=(2, 2), dtype=float32)\n"
          ]
        }
      ]
    },
    {
      "cell_type": "code",
      "source": [
        "image7 = tf.zeros([2,2,2])\n",
        "print(image7,'\\n\\n')\n",
        "\n",
        "image7 = tf.expand_dims(image7, axis=1)\n",
        "print(image7,'\\n\\n')\n",
        "\n",
        "image7 = tf.data.Dataset.from_tensor_slices(image7)\n",
        "print(*image7,'\\n\\n')"
      ],
      "metadata": {
        "colab": {
          "base_uri": "https://localhost:8080/"
        },
        "id": "yLjWzvPTMBri",
        "outputId": "91565e97-b890-4cb9-fd03-0946f9b51080"
      },
      "execution_count": null,
      "outputs": [
        {
          "output_type": "stream",
          "name": "stdout",
          "text": [
            "tf.Tensor(\n",
            "[[[0. 0.]\n",
            "  [0. 0.]]\n",
            "\n",
            " [[0. 0.]\n",
            "  [0. 0.]]], shape=(2, 2, 2), dtype=float32) \n",
            "\n",
            "\n",
            "tf.Tensor(\n",
            "[[[[0. 0.]\n",
            "   [0. 0.]]]\n",
            "\n",
            "\n",
            " [[[0. 0.]\n",
            "   [0. 0.]]]], shape=(2, 1, 2, 2), dtype=float32) \n",
            "\n",
            "\n",
            "tf.Tensor(\n",
            "[[[0. 0.]\n",
            "  [0. 0.]]], shape=(1, 2, 2), dtype=float32) tf.Tensor(\n",
            "[[[0. 0.]\n",
            "  [0. 0.]]], shape=(1, 2, 2), dtype=float32) \n",
            "\n",
            "\n"
          ]
        }
      ]
    },
    {
      "cell_type": "code",
      "source": [
        "\n",
        "image = tf.data.Dataset.from_tensor_slices(image1_2)\n",
        "print(*image,'\\n\\n')"
      ],
      "metadata": {
        "id": "VGb67Fp6ApWG",
        "outputId": "ab075aab-2ddf-46ea-c928-fd1008fb7437",
        "colab": {
          "base_uri": "https://localhost:8080/"
        }
      },
      "execution_count": 30,
      "outputs": [
        {
          "output_type": "stream",
          "name": "stdout",
          "text": [
            "tf.Tensor(\n",
            "[[[0.]\n",
            "  [0.]]\n",
            "\n",
            " [[0.]\n",
            "  [0.]]], shape=(2, 2, 1), dtype=float32) tf.Tensor(\n",
            "[[[0.]\n",
            "  [0.]]\n",
            "\n",
            " [[0.]\n",
            "  [0.]]], shape=(2, 2, 1), dtype=float32) \n",
            "\n",
            "\n"
          ]
        }
      ]
    }
  ]
}