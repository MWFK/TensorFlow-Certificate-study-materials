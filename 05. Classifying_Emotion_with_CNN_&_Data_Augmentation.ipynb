{
  "nbformat": 4,
  "nbformat_minor": 0,
  "metadata": {
    "colab": {
      "name": "5- Classifying Emotion with CNN & Data-Augmentation.ipynb",
      "provenance": [],
      "authorship_tag": "ABX9TyOVb6p3yNhwaFNYxNrFn8Bp",
      "include_colab_link": true
    },
    "kernelspec": {
      "name": "python3",
      "display_name": "Python 3"
    },
    "language_info": {
      "name": "python"
    }
  },
  "cells": [
    {
      "cell_type": "markdown",
      "metadata": {
        "id": "view-in-github",
        "colab_type": "text"
      },
      "source": [
        "<a href=\"https://colab.research.google.com/github/MWFK/TensorFlow-Certificate-study-materials/blob/main/05.%20Classifying_Emotion_with_CNN_%26_Data_Augmentation.ipynb\" target=\"_parent\"><img src=\"https://colab.research.google.com/assets/colab-badge.svg\" alt=\"Open In Colab\"/></a>"
      ]
    },
    {
      "cell_type": "markdown",
      "metadata": {
        "id": "_HpjhoVh3GpZ"
      },
      "source": [
        "\n",
        "\n",
        "Below is code with a link to a happy or sad dataset which contains 80 images, 40 happy and 40 sad. Create a convolutional neural network that trains to 100% accuracy on these images, which cancels training upon hitting training accuracy of >.999\n",
        "\n",
        "Hint -- it will work best with 3 convolutional layers.\n"
      ]
    },
    {
      "cell_type": "code",
      "metadata": {
        "colab": {
          "base_uri": "https://localhost:8080/"
        },
        "id": "9SyE9Fyj2xi9",
        "outputId": "a0944279-aa17-4f97-eab7-8b9ffea2b399"
      },
      "source": [
        "import tensorflow as tf\n",
        "import os\n",
        "import zipfile\n",
        "\n",
        "\n",
        "DESIRED_ACCURACY = 0.999\n",
        "\n",
        "!wget --no-check-certificate \\\n",
        "    \"https://storage.googleapis.com/laurencemoroney-blog.appspot.com/happy-or-sad.zip\" \\\n",
        "    -O \"/tmp/happy-or-sad.zip\"\n",
        "\n",
        "zip_ref = zipfile.ZipFile(\"/tmp/happy-or-sad.zip\", 'r')\n",
        "zip_ref.extractall(\"/tmp/h-or-s\")\n",
        "zip_ref.close()\n",
        "\n",
        "class CustomCallbacks(tf.keras.callbacks.Callback):\n",
        "    def on_epoch_end(self, epoch, logs={}):\n",
        "      if(logs.get('accuracy')>DESIRED_ACCURACY):\n",
        "        print(\"\\n 99% acc reached\")\n",
        "        self.model.stop_training = True\n",
        "\n",
        "callbacks = CustomCallbacks()"
      ],
      "execution_count": null,
      "outputs": [
        {
          "output_type": "stream",
          "text": [
            "--2021-04-28 14:26:29--  https://storage.googleapis.com/laurencemoroney-blog.appspot.com/happy-or-sad.zip\n",
            "Resolving storage.googleapis.com (storage.googleapis.com)... 142.250.136.128, 142.250.148.128, 209.85.200.128, ...\n",
            "Connecting to storage.googleapis.com (storage.googleapis.com)|142.250.136.128|:443... connected.\n",
            "HTTP request sent, awaiting response... 200 OK\n",
            "Length: 2670333 (2.5M) [application/zip]\n",
            "Saving to: ‘/tmp/happy-or-sad.zip’\n",
            "\n",
            "\r/tmp/happy-or-sad.z   0%[                    ]       0  --.-KB/s               \r/tmp/happy-or-sad.z 100%[===================>]   2.55M  --.-KB/s    in 0.02s   \n",
            "\n",
            "2021-04-28 14:26:29 (106 MB/s) - ‘/tmp/happy-or-sad.zip’ saved [2670333/2670333]\n",
            "\n"
          ],
          "name": "stdout"
        }
      ]
    },
    {
      "cell_type": "code",
      "metadata": {
        "id": "Rfii0-Ia3KUq"
      },
      "source": [
        "# This Code Block should Define and Compile the Model\n",
        "model = tf.keras.models.Sequential([\n",
        "    tf.keras.layers.Conv2D(64, (3,3), activation='relu', input_shape=(150,150,3)),\n",
        "    tf.keras.layers.MaxPooling2D(2,2),\n",
        "\n",
        "    tf.keras.layers.Conv2D(32, (3,3), activation='relu'),\n",
        "    tf.keras.layers.MaxPooling2D(2,2),\n",
        "\n",
        "    tf.keras.layers.Conv2D(32, (2,2), activation='relu'),\n",
        "    tf.keras.layers.MaxPooling2D(2,2),\n",
        "\n",
        "    tf.keras.layers.Flatten(),\n",
        "\n",
        "    tf.keras.layers.Dense(512, activation='relu'),\n",
        "    tf.keras.layers.Dense(128, activation='relu'),\n",
        "    \n",
        "    tf.keras.layers.Dense(1, activation='sigmoid')\n",
        "])\n",
        "\n",
        "from tensorflow.keras.optimizers import RMSprop\n",
        "\n",
        "model.compile(\n",
        "    optimizer=RMSprop(),\n",
        "    loss='binary_crossentropy',\n",
        "    metrics=['accuracy']\n",
        ")"
      ],
      "execution_count": null,
      "outputs": []
    },
    {
      "cell_type": "code",
      "metadata": {
        "colab": {
          "base_uri": "https://localhost:8080/"
        },
        "id": "NeanWfsh3e1s",
        "outputId": "2f83da97-5bca-40c3-c35b-7eabf7bf0e3f"
      },
      "source": [
        "# This code block should create an instance of an ImageDataGenerator called train_datagen \n",
        "# And a train_generator by calling train_datagen.flow_from_directory\n",
        "\n",
        "from tensorflow.keras.preprocessing.image import ImageDataGenerator\n",
        "\n",
        "train_datagen = ImageDataGenerator(rescale=1/255)\n",
        "\n",
        "train_generator = train_datagen.flow_from_directory(\n",
        "    '/tmp/h-or-s',\n",
        "    target_size=(150, 150),\n",
        "    batch_size=64,\n",
        "    class_mode='binary'\n",
        ")\n",
        "\n",
        "# Expected output: 'Found 80 images belonging to 2 classes'"
      ],
      "execution_count": null,
      "outputs": [
        {
          "output_type": "stream",
          "text": [
            "Found 80 images belonging to 2 classes.\n"
          ],
          "name": "stdout"
        }
      ]
    },
    {
      "cell_type": "code",
      "metadata": {
        "colab": {
          "base_uri": "https://localhost:8080/"
        },
        "id": "SsLp07IJ3kH3",
        "outputId": "d8f901ab-2174-4cec-cc17-2e4aa3d7d2de"
      },
      "source": [
        "# This code block should call model.fit_generator and train for\n",
        "# a number of epochs. \n",
        "history = model.fit_generator(\n",
        "    train_generator,\n",
        "    epochs=20,\n",
        "    callbacks=[callbacks]\n",
        ")\n",
        "    \n",
        "# Expected output: \"Reached 99.9% accuracy so cancelling training!\"\""
      ],
      "execution_count": null,
      "outputs": [
        {
          "output_type": "stream",
          "text": [
            "/usr/local/lib/python3.7/dist-packages/tensorflow/python/keras/engine/training.py:1844: UserWarning: `Model.fit_generator` is deprecated and will be removed in a future version. Please use `Model.fit`, which supports generators.\n",
            "  warnings.warn('`Model.fit_generator` is deprecated and '\n"
          ],
          "name": "stderr"
        },
        {
          "output_type": "stream",
          "text": [
            "Epoch 1/20\n",
            "2/2 [==============================] - 4s 3s/step - loss: 2.0586 - accuracy: 0.4250\n",
            "Epoch 2/20\n",
            "2/2 [==============================] - 3s 2s/step - loss: 0.7742 - accuracy: 0.5375\n",
            "Epoch 3/20\n",
            "2/2 [==============================] - 3s 654ms/step - loss: 0.6529 - accuracy: 0.7365\n",
            "Epoch 4/20\n",
            "2/2 [==============================] - 3s 650ms/step - loss: 0.6790 - accuracy: 0.5219\n",
            "Epoch 5/20\n",
            "2/2 [==============================] - 3s 2s/step - loss: 0.5689 - accuracy: 0.6583\n",
            "Epoch 6/20\n",
            "2/2 [==============================] - 3s 2s/step - loss: 0.7453 - accuracy: 0.5375\n",
            "Epoch 7/20\n",
            "2/2 [==============================] - 3s 2s/step - loss: 0.5234 - accuracy: 0.6833\n",
            "Epoch 8/20\n",
            "2/2 [==============================] - 3s 669ms/step - loss: 0.3995 - accuracy: 0.9240\n",
            "Epoch 9/20\n",
            "2/2 [==============================] - 3s 2s/step - loss: 0.1848 - accuracy: 0.9458\n",
            "Epoch 10/20\n",
            "2/2 [==============================] - 3s 2s/step - loss: 0.6140 - accuracy: 0.6167\n",
            "Epoch 11/20\n",
            "2/2 [==============================] - 3s 2s/step - loss: 0.4327 - accuracy: 0.8375\n",
            "Epoch 12/20\n",
            "2/2 [==============================] - 3s 648ms/step - loss: 0.2801 - accuracy: 0.9052\n",
            "Epoch 13/20\n",
            "2/2 [==============================] - 3s 2s/step - loss: 0.1804 - accuracy: 0.9375\n",
            "Epoch 14/20\n",
            "2/2 [==============================] - 3s 650ms/step - loss: 0.1619 - accuracy: 0.9458\n",
            "Epoch 15/20\n",
            "2/2 [==============================] - 3s 2s/step - loss: 0.2040 - accuracy: 0.9625\n",
            "Epoch 16/20\n",
            "2/2 [==============================] - 3s 2s/step - loss: 0.1363 - accuracy: 0.9458\n",
            "Epoch 17/20\n",
            "2/2 [==============================] - 3s 2s/step - loss: 0.1528 - accuracy: 0.9500\n",
            "Epoch 18/20\n",
            "2/2 [==============================] - 3s 2s/step - loss: 0.2825 - accuracy: 0.9417\n",
            "Epoch 19/20\n",
            "2/2 [==============================] - 3s 2s/step - loss: 0.1254 - accuracy: 0.9583\n",
            "Epoch 20/20\n",
            "2/2 [==============================] - 3s 656ms/step - loss: 0.0931 - accuracy: 1.0000\n",
            "\n",
            " 99% acc reached\n"
          ],
          "name": "stdout"
        }
      ]
    }
  ]
}