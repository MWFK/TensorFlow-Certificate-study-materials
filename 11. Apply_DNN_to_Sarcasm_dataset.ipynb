{
  "nbformat": 4,
  "nbformat_minor": 0,
  "metadata": {
    "colab": {
      "name": "11. Apply DNN to Sarcasm dataset.ipynb",
      "provenance": [],
      "collapsed_sections": [],
      "authorship_tag": "ABX9TyMHvsRW+8pvZHaTsAbNWFQo",
      "include_colab_link": true
    },
    "kernelspec": {
      "name": "python3",
      "display_name": "Python 3"
    }
  },
  "cells": [
    {
      "cell_type": "markdown",
      "metadata": {
        "id": "view-in-github",
        "colab_type": "text"
      },
      "source": [
        "<a href=\"https://colab.research.google.com/github/MWFK/TensorFlow-Certificate-study-materials/blob/main/11.%20Apply_DNN_to_Sarcasm_dataset.ipynb\" target=\"_parent\"><img src=\"https://colab.research.google.com/assets/colab-badge.svg\" alt=\"Open In Colab\"/></a>"
      ]
    },
    {
      "cell_type": "markdown",
      "metadata": {
        "id": "lw8wjpnCC1mk"
      },
      "source": [
        "Licensed under the Apache License, Version 2.0 (the \"License\");"
      ]
    },
    {
      "cell_type": "code",
      "metadata": {
        "id": "GEo8mgPHC0f7"
      },
      "source": [
        "# Run this to ensure TensorFlow 2.x is used\n",
        "try:\n",
        "  # %tensorflow_version only exists in Colab.\n",
        "  %tensorflow_version 2.x\n",
        "except Exception:\n",
        "  pass"
      ],
      "execution_count": 1,
      "outputs": []
    },
    {
      "cell_type": "code",
      "metadata": {
        "id": "f_3uslG7C5EQ",
        "colab": {
          "base_uri": "https://localhost:8080/"
        },
        "outputId": "df13149a-01ea-48e0-de6e-40819fb9a086"
      },
      "source": [
        "import json\n",
        "import tensorflow as tf\n",
        "print('tf version ',tf.version.VERSION)\n",
        "\n",
        "from tensorflow.keras.preprocessing.text import Tokenizer\n",
        "from tensorflow.keras.preprocessing.sequence import pad_sequences"
      ],
      "execution_count": 3,
      "outputs": [
        {
          "output_type": "stream",
          "text": [
            "tf version  2.5.0\n"
          ],
          "name": "stdout"
        }
      ]
    },
    {
      "cell_type": "code",
      "metadata": {
        "id": "kYopgjebC7Nh"
      },
      "source": [
        "vocab_size = 10000\n",
        "embedding_dim = 16\n",
        "max_length = 100\n",
        "trunc_type='post'\n",
        "padding_type='post'\n",
        "oov_tok = \"<OOV>\"\n",
        "training_size = 20000"
      ],
      "execution_count": 4,
      "outputs": []
    },
    {
      "cell_type": "code",
      "metadata": {
        "colab": {
          "base_uri": "https://localhost:8080/"
        },
        "id": "93KmG1lLDBAL",
        "outputId": "72657b1b-a8cf-4cc1-828a-1def96c6e637"
      },
      "source": [
        "!wget --no-check-certificate \\\n",
        "    https://storage.googleapis.com/laurencemoroney-blog.appspot.com/sarcasm.json \\\n",
        "    -O /tmp/sarcasm.json"
      ],
      "execution_count": 5,
      "outputs": [
        {
          "output_type": "stream",
          "text": [
            "--2021-08-08 13:33:18--  https://storage.googleapis.com/laurencemoroney-blog.appspot.com/sarcasm.json\n",
            "Resolving storage.googleapis.com (storage.googleapis.com)... 172.217.203.128, 142.250.98.128, 108.177.12.128, ...\n",
            "Connecting to storage.googleapis.com (storage.googleapis.com)|172.217.203.128|:443... connected.\n",
            "HTTP request sent, awaiting response... 200 OK\n",
            "Length: 5643545 (5.4M) [application/json]\n",
            "Saving to: ‘/tmp/sarcasm.json’\n",
            "\n",
            "\r/tmp/sarcasm.json     0%[                    ]       0  --.-KB/s               \r/tmp/sarcasm.json   100%[===================>]   5.38M  --.-KB/s    in 0.04s   \n",
            "\n",
            "2021-08-08 13:33:18 (143 MB/s) - ‘/tmp/sarcasm.json’ saved [5643545/5643545]\n",
            "\n"
          ],
          "name": "stdout"
        }
      ]
    },
    {
      "cell_type": "code",
      "metadata": {
        "id": "huXl_ZIQDD5i"
      },
      "source": [
        "# Data Extraction\n",
        "with open(\"/tmp/sarcasm.json\", 'r') as f:\n",
        "    datastore = json.load(f)\n",
        "\n",
        "sentences = []\n",
        "labels = []\n",
        "\n",
        "for item in datastore:\n",
        "    sentences.append(item['headline'])\n",
        "    labels.append(item['is_sarcastic'])"
      ],
      "execution_count": 6,
      "outputs": []
    },
    {
      "cell_type": "code",
      "metadata": {
        "id": "3wUIo8H4DHcd"
      },
      "source": [
        "training_sentences = sentences[0:training_size]\n",
        "testing_sentences = sentences[training_size:]\n",
        "training_labels = labels[0:training_size]\n",
        "testing_labels = labels[training_size:]"
      ],
      "execution_count": 7,
      "outputs": []
    },
    {
      "cell_type": "code",
      "metadata": {
        "id": "k6ftzefeDLMG"
      },
      "source": [
        "tokenizer = Tokenizer(num_words=vocab_size, oov_token=oov_tok)\n",
        "tokenizer.fit_on_texts(training_sentences)\n",
        "\n",
        "word_index = tokenizer.word_index\n",
        "\n",
        "training_sequences = tokenizer.texts_to_sequences(training_sentences)\n",
        "training_padded = pad_sequences(training_sequences, maxlen=max_length, padding=padding_type, truncating=trunc_type)\n",
        "\n",
        "testing_sequences = tokenizer.texts_to_sequences(testing_sentences)\n",
        "testing_padded = pad_sequences(testing_sequences, maxlen=max_length, padding=padding_type, truncating=trunc_type)"
      ],
      "execution_count": 8,
      "outputs": []
    },
    {
      "cell_type": "code",
      "metadata": {
        "id": "N3uHxgnqDQcB"
      },
      "source": [
        "# Need this block to get it to work with TensorFlow 2.x\n",
        "import numpy as np\n",
        "training_padded = np.array(training_padded)\n",
        "training_labels = np.array(training_labels)\n",
        "testing_padded = np.array(testing_padded)\n",
        "testing_labels = np.array(testing_labels)"
      ],
      "execution_count": 9,
      "outputs": []
    },
    {
      "cell_type": "code",
      "metadata": {
        "colab": {
          "base_uri": "https://localhost:8080/"
        },
        "id": "EqjvgdklDZ2Z",
        "outputId": "8bf1d35e-5e46-42aa-a713-1b4a67e8a7ce"
      },
      "source": [
        "model = tf.keras.Sequential([\n",
        "    tf.keras.layers.Embedding(vocab_size, embedding_dim, input_length=max_length), # Param = vocab_size * embedding\n",
        "    tf.keras.layers.GlobalAveragePooling1D(), # Average Pooling is a pooling operation that calculates the average value for patches of a feature map, and uses it to create a downsampled (pooled) feature map. \n",
        "    tf.keras.layers.Dense(24, activation='relu'),\n",
        "    tf.keras.layers.Dense(1, activation='sigmoid')\n",
        "])\n",
        "model.compile(loss='binary_crossentropy',optimizer='adam',metrics=['accuracy'])\n",
        "\n",
        "model.summary()"
      ],
      "execution_count": 10,
      "outputs": [
        {
          "output_type": "stream",
          "text": [
            "Model: \"sequential\"\n",
            "_________________________________________________________________\n",
            "Layer (type)                 Output Shape              Param #   \n",
            "=================================================================\n",
            "embedding (Embedding)        (None, 100, 16)           160000    \n",
            "_________________________________________________________________\n",
            "global_average_pooling1d (Gl (None, 16)                0         \n",
            "_________________________________________________________________\n",
            "dense (Dense)                (None, 24)                408       \n",
            "_________________________________________________________________\n",
            "dense_1 (Dense)              (None, 1)                 25        \n",
            "=================================================================\n",
            "Total params: 160,433\n",
            "Trainable params: 160,433\n",
            "Non-trainable params: 0\n",
            "_________________________________________________________________\n"
          ],
          "name": "stdout"
        }
      ]
    },
    {
      "cell_type": "code",
      "metadata": {
        "colab": {
          "base_uri": "https://localhost:8080/"
        },
        "id": "jMLKGvC7Dgij",
        "outputId": "278175a5-3809-4e86-b66d-3d0d0a703e5a"
      },
      "source": [
        "num_epochs = 30\n",
        "history = model.fit(x=training_padded, y=training_labels, epochs=num_epochs, validation_data=(testing_padded, testing_labels), verbose=2)"
      ],
      "execution_count": 12,
      "outputs": [
        {
          "output_type": "stream",
          "text": [
            "Epoch 1/30\n",
            "625/625 - 3s - loss: 0.6761 - accuracy: 0.5707 - val_loss: 0.6236 - val_accuracy: 0.6464\n",
            "Epoch 2/30\n",
            "625/625 - 2s - loss: 0.4522 - accuracy: 0.8177 - val_loss: 0.3917 - val_accuracy: 0.8332\n",
            "Epoch 3/30\n",
            "625/625 - 2s - loss: 0.3185 - accuracy: 0.8741 - val_loss: 0.3563 - val_accuracy: 0.8472\n",
            "Epoch 4/30\n",
            "625/625 - 2s - loss: 0.2676 - accuracy: 0.8953 - val_loss: 0.3444 - val_accuracy: 0.8530\n",
            "Epoch 5/30\n",
            "625/625 - 2s - loss: 0.2312 - accuracy: 0.9106 - val_loss: 0.3475 - val_accuracy: 0.8530\n",
            "Epoch 6/30\n",
            "625/625 - 2s - loss: 0.2039 - accuracy: 0.9227 - val_loss: 0.3576 - val_accuracy: 0.8508\n",
            "Epoch 7/30\n",
            "625/625 - 2s - loss: 0.1822 - accuracy: 0.9315 - val_loss: 0.3559 - val_accuracy: 0.8527\n",
            "Epoch 8/30\n",
            "625/625 - 2s - loss: 0.1638 - accuracy: 0.9377 - val_loss: 0.3660 - val_accuracy: 0.8523\n",
            "Epoch 9/30\n",
            "625/625 - 2s - loss: 0.1483 - accuracy: 0.9469 - val_loss: 0.3981 - val_accuracy: 0.8465\n",
            "Epoch 10/30\n",
            "625/625 - 2s - loss: 0.1340 - accuracy: 0.9518 - val_loss: 0.4127 - val_accuracy: 0.8463\n",
            "Epoch 11/30\n",
            "625/625 - 2s - loss: 0.1217 - accuracy: 0.9586 - val_loss: 0.4199 - val_accuracy: 0.8469\n",
            "Epoch 12/30\n",
            "625/625 - 2s - loss: 0.1116 - accuracy: 0.9608 - val_loss: 0.4367 - val_accuracy: 0.8481\n",
            "Epoch 13/30\n",
            "625/625 - 2s - loss: 0.1026 - accuracy: 0.9643 - val_loss: 0.4673 - val_accuracy: 0.8422\n",
            "Epoch 14/30\n",
            "625/625 - 2s - loss: 0.0959 - accuracy: 0.9667 - val_loss: 0.4806 - val_accuracy: 0.8429\n",
            "Epoch 15/30\n",
            "625/625 - 2s - loss: 0.0874 - accuracy: 0.9707 - val_loss: 0.5366 - val_accuracy: 0.8299\n",
            "Epoch 16/30\n",
            "625/625 - 2s - loss: 0.0808 - accuracy: 0.9740 - val_loss: 0.5502 - val_accuracy: 0.8323\n",
            "Epoch 17/30\n",
            "625/625 - 2s - loss: 0.0737 - accuracy: 0.9766 - val_loss: 0.5583 - val_accuracy: 0.8384\n",
            "Epoch 18/30\n",
            "625/625 - 2s - loss: 0.0691 - accuracy: 0.9785 - val_loss: 0.5922 - val_accuracy: 0.8363\n",
            "Epoch 19/30\n",
            "625/625 - 2s - loss: 0.0619 - accuracy: 0.9811 - val_loss: 0.6117 - val_accuracy: 0.8331\n",
            "Epoch 20/30\n",
            "625/625 - 2s - loss: 0.0578 - accuracy: 0.9826 - val_loss: 0.6403 - val_accuracy: 0.8298\n",
            "Epoch 21/30\n",
            "625/625 - 2s - loss: 0.0540 - accuracy: 0.9843 - val_loss: 0.6721 - val_accuracy: 0.8296\n",
            "Epoch 22/30\n",
            "625/625 - 2s - loss: 0.0497 - accuracy: 0.9849 - val_loss: 0.7207 - val_accuracy: 0.8232\n",
            "Epoch 23/30\n",
            "625/625 - 2s - loss: 0.0464 - accuracy: 0.9862 - val_loss: 0.7371 - val_accuracy: 0.8267\n",
            "Epoch 24/30\n",
            "625/625 - 2s - loss: 0.0436 - accuracy: 0.9867 - val_loss: 0.7636 - val_accuracy: 0.8240\n",
            "Epoch 25/30\n",
            "625/625 - 2s - loss: 0.0387 - accuracy: 0.9894 - val_loss: 0.7988 - val_accuracy: 0.8199\n",
            "Epoch 26/30\n",
            "625/625 - 2s - loss: 0.0372 - accuracy: 0.9897 - val_loss: 0.8343 - val_accuracy: 0.8171\n",
            "Epoch 27/30\n",
            "625/625 - 2s - loss: 0.0331 - accuracy: 0.9909 - val_loss: 0.8995 - val_accuracy: 0.8174\n",
            "Epoch 28/30\n",
            "625/625 - 2s - loss: 0.0312 - accuracy: 0.9917 - val_loss: 0.9179 - val_accuracy: 0.8183\n",
            "Epoch 29/30\n",
            "625/625 - 2s - loss: 0.0299 - accuracy: 0.9917 - val_loss: 0.9477 - val_accuracy: 0.8164\n",
            "Epoch 30/30\n",
            "625/625 - 2s - loss: 0.0272 - accuracy: 0.9928 - val_loss: 1.0046 - val_accuracy: 0.8138\n"
          ],
          "name": "stdout"
        }
      ]
    },
    {
      "cell_type": "code",
      "metadata": {
        "colab": {
          "base_uri": "https://localhost:8080/",
          "height": 541
        },
        "id": "ucuUXpWpFOHd",
        "outputId": "74ba2c7e-8490-4dc3-d27f-47ca08838a3b"
      },
      "source": [
        "import matplotlib.pyplot as plt\n",
        "\n",
        "def plot_graphs(history, string):\n",
        "  plt.plot(history.history[string])\n",
        "  plt.plot(history.history['val_'+string])\n",
        "  plt.xlabel(\"Epochs\")\n",
        "  plt.ylabel(string)\n",
        "  plt.legend([string, 'val_'+string])\n",
        "  plt.show()\n",
        "  \n",
        "plot_graphs(history, \"accuracy\")\n",
        "plot_graphs(history, \"loss\")"
      ],
      "execution_count": 13,
      "outputs": [
        {
          "output_type": "display_data",
          "data": {
            "image/png": "[encoded data removed]",
            "text/plain": [
              "<Figure size 432x288 with 1 Axes>"
            ]
          },
          "metadata": {
            "tags": [],
            "needs_background": "light"
          }
        },
        {
          "output_type": "display_data",
          "data": {
            "image/png": "[encoded data removed]",
            "text/plain": [
              "<Figure size 432x288 with 1 Axes>"
            ]
          },
          "metadata": {
            "tags": [],
            "needs_background": "light"
          }
        }
      ]
    },
    {
      "cell_type": "markdown",
      "metadata": {
        "id": "e48HNQUlAG8o"
      },
      "source": [
        "# Prediction"
      ]
    },
    {
      "cell_type": "code",
      "metadata": {
        "colab": {
          "base_uri": "https://localhost:8080/"
        },
        "id": "Fdhej76DFxHw",
        "outputId": "2866ab9f-c40c-4f04-dea5-31fb1e4cab2e"
      },
      "source": [
        "sentence = [\"granny starting to fear spiders in the garden might be real\", \"game of thrones season finale showing this sunday night\"]\n",
        "sequences = tokenizer.texts_to_sequences(sentence)\n",
        "padded = pad_sequences(sequences, maxlen=max_length, padding=padding_type, truncating=trunc_type)\n",
        "print(model.predict(padded))"
      ],
      "execution_count": 15,
      "outputs": [
        {
          "output_type": "stream",
          "text": [
            "[[9.9295533e-01]\n",
            " [3.5595894e-04]]\n"
          ],
          "name": "stdout"
        }
      ]
    },
    {
      "cell_type": "markdown",
      "metadata": {
        "id": "huRuwLGN_lW-"
      },
      "source": [
        "# Reverse Modeling Explanation\n",
        "##### word_index\n",
        "##### reverse_word_index\n",
        "##### word\n",
        "##### weights\n",
        "##### out_v\n",
        "##### out_m"
      ]
    },
    {
      "cell_type": "code",
      "metadata": {
        "id": "HX9G2oRVAbJ8"
      },
      "source": [
        "# print(word_index)\n",
        "# 'coworker': 944,\n",
        "#  'pick': 945,\n",
        "#  'doctor': 946,\n",
        "#  'harvey': 947,\n",
        "#  'happens': 948,"
      ],
      "execution_count": 20,
      "outputs": []
    },
    {
      "cell_type": "code",
      "metadata": {
        "colab": {
          "base_uri": "https://localhost:8080/"
        },
        "id": "5nyBGwkDFVVl",
        "outputId": "5af0afe7-dcf3-4732-9ccf-7f9fafa32b22"
      },
      "source": [
        "reverse_word_index = dict([(value, key) for (key, value) in word_index.items()])\n",
        "\n",
        "def decode_sentence(text):\n",
        "    return ' '.join([reverse_word_index.get(i, '?') for i in text])\n",
        "\n",
        "print(decode_sentence(training_padded[0]))\n",
        "print(training_sentences[2])\n",
        "print(labels[2])"
      ],
      "execution_count": 21,
      "outputs": [
        {
          "output_type": "stream",
          "text": [
            "former <OOV> store clerk sues over secret 'black <OOV> for minority shoppers ? ? ? ? ? ? ? ? ? ? ? ? ? ? ? ? ? ? ? ? ? ? ? ? ? ? ? ? ? ? ? ? ? ? ? ? ? ? ? ? ? ? ? ? ? ? ? ? ? ? ? ? ? ? ? ? ? ? ? ? ? ? ? ? ? ? ? ? ? ? ? ? ? ? ? ? ? ? ? ? ? ? ? ? ? ? ? ?\n",
            "mom starting to fear son's web series closest thing she will have to grandchild\n",
            "1\n"
          ],
          "name": "stdout"
        }
      ]
    },
    {
      "cell_type": "code",
      "metadata": {
        "id": "r3FcyPDsA1au"
      },
      "source": [
        "# print(reverse_word_index)\n",
        "# 944: 'coworker',\n",
        "# 945: 'pick',\n",
        "# 946: 'doctor',\n",
        "# 947: 'harvey',\n",
        "# 948: 'happens',"
      ],
      "execution_count": 23,
      "outputs": []
    },
    {
      "cell_type": "code",
      "metadata": {
        "colab": {
          "base_uri": "https://localhost:8080/"
        },
        "id": "dufxmVP_FbOU",
        "outputId": "f99996eb-0804-4931-df92-812ac1b9bb0e"
      },
      "source": [
        "e = model.layers[0]\n",
        "weights = e.get_weights()[0]\n",
        "print(weights.shape) # shape: (vocab_size, embedding_dim)"
      ],
      "execution_count": null,
      "outputs": [
        {
          "output_type": "stream",
          "text": [
            "(10000, 16)\n"
          ],
          "name": "stdout"
        }
      ]
    },
    {
      "cell_type": "code",
      "metadata": {
        "id": "bQBqPiUNFnJp"
      },
      "source": [
        "import io\n",
        "\n",
        "out_v = io.open('vecs.tsv', 'w', encoding='utf-8')\n",
        "out_m = io.open('meta.tsv', 'w', encoding='utf-8')\n",
        "# In here we go through the reverse_word_index to store the words into the file out_m(meta)\n",
        "# Then we store the weight of each word in the first layer into the file out_v(vecs)\n",
        "for word_num in range(1, vocab_size):\n",
        "  word = reverse_word_index[word_num]\n",
        "  embeddings = weights[word_num]\n",
        "  out_m.write(word + \"\\n\")\n",
        "  out_v.write('\\t'.join([str(x) for x in embeddings]) + \"\\n\")\n",
        "out_v.close()\n",
        "out_m.close()"
      ],
      "execution_count": null,
      "outputs": []
    },
    {
      "cell_type": "code",
      "metadata": {
        "colab": {
          "base_uri": "https://localhost:8080/",
          "height": 17
        },
        "id": "HAC20lxPFsGj",
        "outputId": "d8024536-4954-45c1-bb32-893e2014dbdc"
      },
      "source": [
        "try:\n",
        "  from google.colab import files\n",
        "except ImportError:\n",
        "  pass\n",
        "else:\n",
        "  files.download('vecs.tsv')\n",
        "  files.download('meta.tsv')"
      ],
      "execution_count": null,
      "outputs": [
        {
          "output_type": "display_data",
          "data": {
            "application/javascript": [
              "\n",
              "    async function download(id, filename, size) {\n",
              "      if (!google.colab.kernel.accessAllowed) {\n",
              "        return;\n",
              "      }\n",
              "      const div = document.createElement('div');\n",
              "      const label = document.createElement('label');\n",
              "      label.textContent = `Downloading \"${filename}\": `;\n",
              "      div.appendChild(label);\n",
              "      const progress = document.createElement('progress');\n",
              "      progress.max = size;\n",
              "      div.appendChild(progress);\n",
              "      document.body.appendChild(div);\n",
              "\n",
              "      const buffers = [];\n",
              "      let downloaded = 0;\n",
              "\n",
              "      const channel = await google.colab.kernel.comms.open(id);\n",
              "      // Send a message to notify the kernel that we're ready.\n",
              "      channel.send({})\n",
              "\n",
              "      for await (const message of channel.messages) {\n",
              "        // Send a message to notify the kernel that we're ready.\n",
              "        channel.send({})\n",
              "        if (message.buffers) {\n",
              "          for (const buffer of message.buffers) {\n",
              "            buffers.push(buffer);\n",
              "            downloaded += buffer.byteLength;\n",
              "            progress.value = downloaded;\n",
              "          }\n",
              "        }\n",
              "      }\n",
              "      const blob = new Blob(buffers, {type: 'application/binary'});\n",
              "      const a = document.createElement('a');\n",
              "      a.href = window.URL.createObjectURL(blob);\n",
              "      a.download = filename;\n",
              "      div.appendChild(a);\n",
              "      a.click();\n",
              "      div.remove();\n",
              "    }\n",
              "  "
            ],
            "text/plain": [
              "<IPython.core.display.Javascript object>"
            ]
          },
          "metadata": {
            "tags": []
          }
        },
        {
          "output_type": "display_data",
          "data": {
            "application/javascript": [
              "download(\"download_e0ca1592-04a8-474c-bff1-68984c25b130\", \"vecs.tsv\", 1811520)"
            ],
            "text/plain": [
              "<IPython.core.display.Javascript object>"
            ]
          },
          "metadata": {
            "tags": []
          }
        },
        {
          "output_type": "display_data",
          "data": {
            "application/javascript": [
              "\n",
              "    async function download(id, filename, size) {\n",
              "      if (!google.colab.kernel.accessAllowed) {\n",
              "        return;\n",
              "      }\n",
              "      const div = document.createElement('div');\n",
              "      const label = document.createElement('label');\n",
              "      label.textContent = `Downloading \"${filename}\": `;\n",
              "      div.appendChild(label);\n",
              "      const progress = document.createElement('progress');\n",
              "      progress.max = size;\n",
              "      div.appendChild(progress);\n",
              "      document.body.appendChild(div);\n",
              "\n",
              "      const buffers = [];\n",
              "      let downloaded = 0;\n",
              "\n",
              "      const channel = await google.colab.kernel.comms.open(id);\n",
              "      // Send a message to notify the kernel that we're ready.\n",
              "      channel.send({})\n",
              "\n",
              "      for await (const message of channel.messages) {\n",
              "        // Send a message to notify the kernel that we're ready.\n",
              "        channel.send({})\n",
              "        if (message.buffers) {\n",
              "          for (const buffer of message.buffers) {\n",
              "            buffers.push(buffer);\n",
              "            downloaded += buffer.byteLength;\n",
              "            progress.value = downloaded;\n",
              "          }\n",
              "        }\n",
              "      }\n",
              "      const blob = new Blob(buffers, {type: 'application/binary'});\n",
              "      const a = document.createElement('a');\n",
              "      a.href = window.URL.createObjectURL(blob);\n",
              "      a.download = filename;\n",
              "      div.appendChild(a);\n",
              "      a.click();\n",
              "      div.remove();\n",
              "    }\n",
              "  "
            ],
            "text/plain": [
              "<IPython.core.display.Javascript object>"
            ]
          },
          "metadata": {
            "tags": []
          }
        },
        {
          "output_type": "display_data",
          "data": {
            "application/javascript": [
              "download(\"download_abd45d41-b0ed-41de-a498-aef5054ead1f\", \"meta.tsv\", 75974)"
            ],
            "text/plain": [
              "<IPython.core.display.Javascript object>"
            ]
          },
          "metadata": {
            "tags": []
          }
        }
      ]
    }
  ]
}